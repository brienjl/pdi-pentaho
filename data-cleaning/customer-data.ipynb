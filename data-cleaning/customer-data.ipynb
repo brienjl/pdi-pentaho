{
 "cells": [
  {
   "cell_type": "markdown",
   "metadata": {},
   "source": [
    "## Customer Data\n",
    "\n",
    "There's a few filetypes to look at\n",
    "* csv\n",
    "* text (tab deliminated)\n",
    "* zip\n",
    "\n",
    "1. First, we'll READ in each data source\n",
    "2. Next, we'll do some EDA to look at the shape of each datasource\n",
    "3. Finally, we'll determine which meta data fields that'll need to be renamed, NULL values, and possible conversions required."
   ]
  },
  {
   "cell_type": "markdown",
   "metadata": {},
   "source": [
    "## Summary for Conversions\n",
    "* [x] All data frames have the same column names\n",
    "* [ ] Country will need to be formatted\n",
    "* [ ] City has a '#' in a few city names to be removed\n",
    "* [ ] State will need Fuzzy Matching to fix spelling errors"
   ]
  },
  {
   "cell_type": "markdown",
   "metadata": {},
   "source": [
    "### READ: Multiple csv inputs (Customer Data West)"
   ]
  },
  {
   "cell_type": "code",
   "execution_count": 46,
   "metadata": {},
   "outputs": [
    {
     "name": "stdout",
     "output_type": "stream",
     "text": [
      "<class 'pandas.core.frame.DataFrame'>\n",
      "Index: 254 entries, 0 to 37\n",
      "Data columns (total 9 columns):\n",
      " #   Column         Non-Null Count  Dtype \n",
      "---  ------         --------------  ----- \n",
      " 0   Customer ID    254 non-null    object\n",
      " 1   Customer Name  254 non-null    object\n",
      " 2   Segment        254 non-null    object\n",
      " 3   Age            254 non-null    int64 \n",
      " 4   Country        254 non-null    object\n",
      " 5   City           254 non-null    object\n",
      " 6   State          254 non-null    object\n",
      " 7   Postal Code    254 non-null    int64 \n",
      " 8   Region         254 non-null    object\n",
      "dtypes: int64(2), object(7)\n",
      "memory usage: 19.8+ KB\n"
     ]
    }
   ],
   "source": [
    "# Read in the multi csv files from the CustomerData_West folder and combine them into one dataframe\n",
    "import pandas as pd\n",
    "pd.set_option('display.max_rows', None)\n",
    "try:\n",
    "    path = 'C:/Users/User/Documents/pdi-mc-examples/pdi-pentaho/sample-data/customers/CustomerData_West/'\n",
    "    customer_data_west = pd.concat(map(pd.read_csv, \n",
    "                       [path + 'CustomerData_West_Arizono.csv',\n",
    "                       path + 'CustomerData_West_California.csv',\n",
    "                       path + 'CustomerData_West_Colorado.csv',\n",
    "                       path + 'CustomerData_West_Others.csv',\n",
    "                       path + 'CustomerData_West_Washington.csv']))\n",
    "\n",
    "    #info shows us the count of entires, column names, and non-null counts\n",
    "    customer_data_west.info()\n",
    "\n",
    "    #dtypes shows more info about each column and their data type (object is string and int64 is an integer)\n",
    "    customer_data_west.dtypes\n",
    "except Exception as e:\n",
    "    print(e)"
   ]
  },
  {
   "cell_type": "code",
   "execution_count": 47,
   "metadata": {},
   "outputs": [
    {
     "data": {
      "text/plain": [
       "Customer ID      0\n",
       "Customer Name    0\n",
       "Segment          0\n",
       "Age              0\n",
       "Country          0\n",
       "City             0\n",
       "State            0\n",
       "Postal Code      0\n",
       "Region           0\n",
       "dtype: int64"
      ]
     },
     "execution_count": 47,
     "metadata": {},
     "output_type": "execute_result"
    }
   ],
   "source": [
    "# Find NULL values\n",
    "customer_data_west.isnull().sum()"
   ]
  },
  {
   "cell_type": "markdown",
   "metadata": {},
   "source": [
    "### READ: Excel Data (Customer Data East)"
   ]
  },
  {
   "cell_type": "code",
   "execution_count": 48,
   "metadata": {},
   "outputs": [
    {
     "name": "stdout",
     "output_type": "stream",
     "text": [
      "<class 'pandas.core.frame.DataFrame'>\n",
      "RangeIndex: 220 entries, 0 to 219\n",
      "Data columns (total 9 columns):\n",
      " #   Column         Non-Null Count  Dtype \n",
      "---  ------         --------------  ----- \n",
      " 0   Customer ID    220 non-null    object\n",
      " 1   Customer Name  220 non-null    object\n",
      " 2   Segment        220 non-null    object\n",
      " 3   Age            220 non-null    object\n",
      " 4   Country        220 non-null    object\n",
      " 5   City           220 non-null    object\n",
      " 6   State          220 non-null    object\n",
      " 7   Postal Code    220 non-null    int64 \n",
      " 8   Region         220 non-null    object\n",
      "dtypes: int64(1), object(8)\n",
      "memory usage: 15.6+ KB\n"
     ]
    }
   ],
   "source": [
    "try:\n",
    "    path = 'C:/Users/User/Documents/pdi-mc-examples/pdi-pentaho/sample-data/customers/'\n",
    "    customer_data_east = pd.concat(map(pd.read_excel, \n",
    "                       [path + 'CustomerData_East.xlsx']))\n",
    "\n",
    "    customer_data_east.info()\n",
    "    customer_data_east.dtypes\n",
    "except Exception as e:\n",
    "    print(e)"
   ]
  },
  {
   "cell_type": "markdown",
   "metadata": {},
   "source": [
    "### READ: Tab Seperated Data (Customer Data Central)"
   ]
  },
  {
   "cell_type": "code",
   "execution_count": 49,
   "metadata": {},
   "outputs": [
    {
     "name": "stdout",
     "output_type": "stream",
     "text": [
      "<class 'pandas.core.frame.DataFrame'>\n",
      "RangeIndex: 184 entries, 0 to 183\n",
      "Data columns (total 9 columns):\n",
      " #   Column         Non-Null Count  Dtype \n",
      "---  ------         --------------  ----- \n",
      " 0   Customer ID    184 non-null    object\n",
      " 1   Customer Name  184 non-null    object\n",
      " 2   Segment        184 non-null    object\n",
      " 3   Age            184 non-null    object\n",
      " 4   Country        184 non-null    object\n",
      " 5   City           184 non-null    object\n",
      " 6   State          184 non-null    object\n",
      " 7   Postal Code    184 non-null    int64 \n",
      " 8   Region         184 non-null    object\n",
      "dtypes: int64(1), object(8)\n",
      "memory usage: 13.1+ KB\n"
     ]
    }
   ],
   "source": [
    "try:\n",
    "    path = 'C:/Users/User/Documents/pdi-mc-examples/pdi-pentaho/sample-data/customers/'\n",
    "    customer_data_central = pd.concat(map(pd.read_table, \n",
    "                       [path + 'CustomerData_Central.txt']))\n",
    "\n",
    "    customer_data_central.info()\n",
    "    customer_data_central.dtypes\n",
    "except Exception as e:\n",
    "    print(e)"
   ]
  },
  {
   "cell_type": "markdown",
   "metadata": {},
   "source": [
    "### READ: Zip Data (Customer Data South)"
   ]
  },
  {
   "cell_type": "code",
   "execution_count": 50,
   "metadata": {},
   "outputs": [
    {
     "name": "stdout",
     "output_type": "stream",
     "text": [
      "<class 'pandas.core.frame.DataFrame'>\n",
      "RangeIndex: 133 entries, 0 to 132\n",
      "Data columns (total 9 columns):\n",
      " #   Column         Non-Null Count  Dtype \n",
      "---  ------         --------------  ----- \n",
      " 0   Customer ID    133 non-null    object\n",
      " 1   Customer Name  133 non-null    object\n",
      " 2   Segment        133 non-null    object\n",
      " 3   Age            133 non-null    object\n",
      " 4   Country        133 non-null    object\n",
      " 5   City           133 non-null    object\n",
      " 6   State          133 non-null    object\n",
      " 7   Postal Code    133 non-null    int64 \n",
      " 8   Region         133 non-null    object\n",
      "dtypes: int64(1), object(8)\n",
      "memory usage: 9.5+ KB\n"
     ]
    }
   ],
   "source": [
    "try:\n",
    "    path = 'C:/Users/User/Documents/pdi-mc-examples/pdi-pentaho/sample-data/customers/'\n",
    "    customer_data_south = pd.concat(map(pd.read_csv, \n",
    "                       [path + 'CustomerData_South.zip']))\n",
    "\n",
    "    customer_data_south.info()\n",
    "    customer_data_south.dtypes\n",
    "except Exception as e:\n",
    "    print(e)"
   ]
  },
  {
   "cell_type": "markdown",
   "metadata": {},
   "source": [
    "## Exploratory Data Analysis (EDA)"
   ]
  },
  {
   "cell_type": "markdown",
   "metadata": {},
   "source": [
    "### Check the Meta Data of the Dataframes"
   ]
  },
  {
   "cell_type": "code",
   "execution_count": 51,
   "metadata": {},
   "outputs": [
    {
     "name": "stdout",
     "output_type": "stream",
     "text": [
      "All data frames have the same column names.\n"
     ]
    }
   ],
   "source": [
    "# Compare column names of the data frames\n",
    "data_frames = {\n",
    "    'Customer Data West': customer_data_west,\n",
    "    'Customer Data East': customer_data_east,\n",
    "    'Customer Data Central': customer_data_central,\n",
    "    'Customer Data South': customer_data_south\n",
    "}\n",
    "\n",
    "column_names = [df.columns for df in data_frames.values()]\n",
    "all_columns_same = all(names.equals(column_names[0]) for names in column_names)\n",
    "\n",
    "if all_columns_same:\n",
    "    print(\"All data frames have the same column names.\")\n",
    "else:\n",
    "    print(\"Not all data frames have the same column names.\")\n",
    "    for i, names in enumerate(column_names):\n",
    "        if not names.equals(column_names[0]):\n",
    "            mismatched_columns = names[~names.isin(column_names[0])]\n",
    "            print(f\"Columns in {list(data_frames.keys())[i]} that do not match:\")\n",
    "            print(mismatched_columns)\n",
    "            print()\n"
   ]
  },
  {
   "cell_type": "markdown",
   "metadata": {},
   "source": [
    "### Check each of the Dataframes for possible data conversions"
   ]
  },
  {
   "cell_type": "code",
   "execution_count": 52,
   "metadata": {},
   "outputs": [
    {
     "name": "stdout",
     "output_type": "stream",
     "text": [
      "Unique values and their counts for 'Country' column in alphabetical order:\n",
      "Country\n",
      "US                           21\n",
      "USA                          38\n",
      "United States               175\n",
      "United States of America     20\n",
      "Name: count, dtype: int64\n",
      "\n",
      "Unique values and their counts for 'State' column in alphabetical order:\n",
      "State\n",
      "Arizona        21\n",
      "Cakifornia      1\n",
      "California    157\n",
      "Californis      1\n",
      "Caligornia      1\n",
      "Colorado       20\n",
      "Nevada          2\n",
      "New Mexico      4\n",
      "Oregon          3\n",
      "Utah            6\n",
      "Washington     38\n",
      "Name: count, dtype: int64\n"
     ]
    }
   ],
   "source": [
    "country_unique_values = customer_data_west['Country'].value_counts().sort_index()\n",
    "state_unique_values = customer_data_west['State'].value_counts().sort_index()\n",
    "\n",
    "print(\"Unique values and their counts for 'Country' column in alphabetical order:\")\n",
    "print(country_unique_values)\n",
    "\n",
    "print(\"\\nUnique values and their counts for 'State' column in alphabetical order:\")\n",
    "print(state_unique_values)\n"
   ]
  },
  {
   "cell_type": "code",
   "execution_count": 53,
   "metadata": {},
   "outputs": [],
   "source": [
    "# function get unique values for a column in a dataframe and sort them in alphabetical order\n",
    "def get_unique_values(df, column):\n",
    "    unique_values = df[column].value_counts().sort_index()\n",
    "    return unique_values\n",
    "\n",
    "# get_unique_values(customer_data_west, 'Country')"
   ]
  },
  {
   "cell_type": "code",
   "execution_count": 54,
   "metadata": {},
   "outputs": [],
   "source": [
    "# Quick loop calling the function to see what might be duplicate values\n",
    "# for column in customer_data_west.columns:\n",
    "    # unique_values = get_unique_values(customer_data_west, column)\n",
    "    # print(f\"Unique values and their counts for '{column}')\")\n",
    "    # print(unique_values)\n",
    "    # print()"
   ]
  },
  {
   "cell_type": "code",
   "execution_count": 55,
   "metadata": {},
   "outputs": [
    {
     "name": "stdout",
     "output_type": "stream",
     "text": [
      "Country\n",
      "US                           21\n",
      "USA                          38\n",
      "United States               175\n",
      "United States of America     20\n",
      "Name: count, dtype: int64\n",
      "State\n",
      "Arizona        21\n",
      "Cakifornia      1\n",
      "California    157\n",
      "Californis      1\n",
      "Caligornia      1\n",
      "Colorado       20\n",
      "Nevada          2\n",
      "New Mexico      4\n",
      "Oregon          3\n",
      "Utah            6\n",
      "Washington     38\n",
      "Name: count, dtype: int64\n",
      "City\n",
      "#Apple Valley        1\n",
      "#Salinas             2\n",
      "#Whittier            1\n",
      "Albuquerque          2\n",
      "Arvada               1\n",
      "Aurora               6\n",
      "Brentwood            1\n",
      "Broomfield           1\n",
      "Carlsbad             1\n",
      "Colorado Springs     1\n",
      "Concord              1\n",
      "Costa Mesa           1\n",
      "Denver               3\n",
      "Des Moines           1\n",
      "Encinitas            1\n",
      "Escondido            1\n",
      "Fairfield            1\n",
      "Fort Collins         1\n",
      "Fresno               3\n",
      "Gilbert              2\n",
      "Glendale             2\n",
      "Hesperia             1\n",
      "Huntington Beach     1\n",
      "Inglewood            1\n",
      "Kent                 1\n",
      "La Quinta            1\n",
      "Laguna Niguel        1\n",
      "Lake Elsinore        1\n",
      "Lancaster            1\n",
      "Las Cruces           1\n",
      "Las Vegas            1\n",
      "Lehi                 1\n",
      "Littleton            1\n",
      "Long Beach           3\n",
      "Los Angeles         57\n",
      "Louisville           3\n",
      "Manteca              1\n",
      "Marysville           1\n",
      "Mesa                 3\n",
      "Mission Viejo        2\n",
      "Murray               1\n",
      "Murrieta             1\n",
      "North Las Vegas      1\n",
      "Oakland              3\n",
      "Oceanside            2\n",
      "Olympia              1\n",
      "Ontario              1\n",
      "Orem                 2\n",
      "Parker               1\n",
      "Pasadena             3\n",
      "Peoria               1\n",
      "Phoenix              5\n",
      "Pico Rivera          1\n",
      "Portland             1\n",
      "Pueblo               2\n",
      "Redlands             1\n",
      "Riverside            2\n",
      "Roseville            2\n",
      "Salem                1\n",
      "Salt Lake City       1\n",
      "San Diego           13\n",
      "San Francisco       41\n",
      "San Jose             1\n",
      "Santa Ana            2\n",
      "Santa Clara          1\n",
      "Scottsdale           3\n",
      "Seattle             31\n",
      "Spokane              1\n",
      "Stockton             2\n",
      "Tigard               1\n",
      "Tucson               5\n",
      "Vallejo              1\n",
      "Vancouver            2\n",
      "West Jordan          1\n",
      "Name: count, dtype: int64\n"
     ]
    }
   ],
   "source": [
    "West_Country = get_unique_values(customer_data_west, 'Country')\n",
    "West_State = get_unique_values(customer_data_west, 'State')\n",
    "West_City = get_unique_values(customer_data_west, 'City')\n",
    "\n",
    "print(West_Country)\n",
    "print(West_State)\n",
    "print(West_City)"
   ]
  }
 ],
 "metadata": {
  "kernelspec": {
   "display_name": "Python 3",
   "language": "python",
   "name": "python3"
  },
  "language_info": {
   "codemirror_mode": {
    "name": "ipython",
    "version": 3
   },
   "file_extension": ".py",
   "mimetype": "text/x-python",
   "name": "python",
   "nbconvert_exporter": "python",
   "pygments_lexer": "ipython3",
   "version": "3.11.5"
  }
 },
 "nbformat": 4,
 "nbformat_minor": 2
}
