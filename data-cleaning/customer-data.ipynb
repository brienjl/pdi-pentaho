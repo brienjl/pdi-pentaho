{
 "cells": [
  {
   "cell_type": "code",
   "execution_count": 20,
   "metadata": {},
   "outputs": [
    {
     "name": "stdout",
     "output_type": "stream",
     "text": [
      "<class 'pandas.core.frame.DataFrame'>\n",
      "Index: 254 entries, 0 to 37\n",
      "Data columns (total 9 columns):\n",
      " #   Column         Non-Null Count  Dtype \n",
      "---  ------         --------------  ----- \n",
      " 0   Customer ID    254 non-null    object\n",
      " 1   Customer Name  254 non-null    object\n",
      " 2   Segment        254 non-null    object\n",
      " 3   Age            254 non-null    int64 \n",
      " 4   Country        254 non-null    object\n",
      " 5   City           254 non-null    object\n",
      " 6   State          254 non-null    object\n",
      " 7   Postal Code    254 non-null    int64 \n",
      " 8   Region         254 non-null    object\n",
      "dtypes: int64(2), object(7)\n",
      "memory usage: 19.8+ KB\n"
     ]
    }
   ],
   "source": [
    "# Read in the multi csv files from the CustomerData_West folder and combine them into one dataframe\n",
    "import pandas as pd\n",
    "try:\n",
    "    path = 'C:/Users/User/Documents/pdi-mc-examples/pdi-pentaho/sample-data/customers/CustomerData_West/'\n",
    "    customer_data_west = pd.concat(map(pd.read_csv, \n",
    "                       [path + 'CustomerData_West_Arizono.csv',\n",
    "                       path + 'CustomerData_West_California.csv',\n",
    "                       path + 'CustomerData_West_Colorado.csv',\n",
    "                       path + 'CustomerData_West_Others.csv',\n",
    "                       path + 'CustomerData_West_Washington.csv']))\n",
    "\n",
    "    #info shows us the count of entires, column names, and non-null counts\n",
    "    customer_data_west.info()\n",
    "\n",
    "    #dtypes shows more info about each column and their data type (object is string and int64 is an integer)\n",
    "    customer_data_west.dtypes\n",
    "except Exception as e:\n",
    "    print(e)"
   ]
  },
  {
   "cell_type": "code",
   "execution_count": 23,
   "metadata": {},
   "outputs": [
    {
     "data": {
      "text/plain": [
       "Customer ID      0\n",
       "Customer Name    0\n",
       "Segment          0\n",
       "Age              0\n",
       "Country          0\n",
       "City             0\n",
       "State            0\n",
       "Postal Code      0\n",
       "Region           0\n",
       "dtype: int64"
      ]
     },
     "execution_count": 23,
     "metadata": {},
     "output_type": "execute_result"
    }
   ],
   "source": [
    "# Find NULL values\n",
    "customer_data_west.isnull().sum()"
   ]
  }
 ],
 "metadata": {
  "kernelspec": {
   "display_name": "Python 3",
   "language": "python",
   "name": "python3"
  },
  "language_info": {
   "codemirror_mode": {
    "name": "ipython",
    "version": 3
   },
   "file_extension": ".py",
   "mimetype": "text/x-python",
   "name": "python",
   "nbconvert_exporter": "python",
   "pygments_lexer": "ipython3",
   "version": "3.11.5"
  }
 },
 "nbformat": 4,
 "nbformat_minor": 2
}
